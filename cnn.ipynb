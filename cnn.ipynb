{
  "nbformat": 4,
  "nbformat_minor": 0,
  "metadata": {
    "colab": {
      "name": "cnn.ipynb",
      "provenance": [],
      "collapsed_sections": [],
      "machine_shape": "hm",
      "authorship_tag": "ABX9TyMiZLs49k+5JLkX6k/kZyXF",
      "include_colab_link": true
    },
    "kernelspec": {
      "name": "python3",
      "display_name": "Python 3"
    },
    "accelerator": "GPU"
  },
  "cells": [
    {
      "cell_type": "markdown",
      "metadata": {
        "id": "view-in-github",
        "colab_type": "text"
      },
      "source": [
        "<a href=\"https://colab.research.google.com/github/zhengwu123/Machine_learning_group_project/blob/master/cnn.ipynb\" target=\"_parent\"><img src=\"https://colab.research.google.com/assets/colab-badge.svg\" alt=\"Open In Colab\"/></a>"
      ]
    },
    {
      "cell_type": "code",
      "metadata": {
        "id": "assyLOqnBflS",
        "colab_type": "code",
        "outputId": "54be0b70-ee28-45cd-8b3e-e20e4be6cbfe",
        "colab": {
          "base_uri": "https://localhost:8080/",
          "height": 34
        }
      },
      "source": [
        "import tensorflow as tf\n",
        "print(tf.__version__)"
      ],
      "execution_count": 4,
      "outputs": [
        {
          "output_type": "stream",
          "text": [
            "2.2.0-rc3\n"
          ],
          "name": "stdout"
        }
      ]
    },
    {
      "cell_type": "code",
      "metadata": {
        "id": "k6G5t6yHmM9m",
        "colab_type": "code",
        "outputId": "4a22a758-d043-4561-a3c9-d5ac805cd6de",
        "colab": {
          "base_uri": "https://localhost:8080/",
          "height": 119
        }
      },
      "source": [
        "#unzip mnist files\n",
        "!unzip MNIST.zip\n",
        "\n"
      ],
      "execution_count": 5,
      "outputs": [
        {
          "output_type": "stream",
          "text": [
            "Archive:  MNIST.zip\n",
            "   creating: MNIST/\n",
            "  inflating: MNIST/t10k-images-idx3-ubyte.gz  \n",
            " extracting: MNIST/t10k-labels-idx1-ubyte.gz  \n",
            "  inflating: MNIST/train-images-idx3-ubyte.gz  \n",
            " extracting: MNIST/train-labels-idx1-ubyte.gz  \n"
          ],
          "name": "stdout"
        }
      ]
    },
    {
      "cell_type": "code",
      "metadata": {
        "id": "w16bNMt3Zyuh",
        "colab_type": "code",
        "colab": {}
      },
      "source": [
        "# unzip gz files\n",
        "!gunzip MNIST/t*-ubyte.gz"
      ],
      "execution_count": 0,
      "outputs": []
    },
    {
      "cell_type": "code",
      "metadata": {
        "id": "sRUX9Yy59lkA",
        "colab_type": "code",
        "colab": {}
      },
      "source": [
        "#\n",
        "# MNIST Data Loader Class used to load MNIST DATA\n",
        "#\n",
        "import numpy as np \n",
        "import struct\n",
        "from array import array\n",
        "from os.path  import join\n",
        "\n",
        "\n",
        "class MnistDataloader(object):\n",
        "    def __init__(self, training_images_filepath,training_labels_filepath,\n",
        "                 test_images_filepath, test_labels_filepath):\n",
        "        self.training_images_filepath = training_images_filepath\n",
        "        self.training_labels_filepath = training_labels_filepath\n",
        "        self.test_images_filepath = test_images_filepath\n",
        "        self.test_labels_filepath = test_labels_filepath\n",
        "    \n",
        "    def read_images_labels(self, images_filepath, labels_filepath):        \n",
        "        labels = []\n",
        "        with open(labels_filepath, 'rb') as file:\n",
        "            magic, size = struct.unpack(\">II\", file.read(8))\n",
        "            if magic != 2049:\n",
        "                raise ValueError('Magic number mismatch, expected 2049, got {}'.format(magic))\n",
        "            labels = array(\"B\", file.read())        \n",
        "        \n",
        "        with open(images_filepath, 'rb') as file:\n",
        "            magic, size, rows, cols = struct.unpack(\">IIII\", file.read(16))\n",
        "            if magic != 2051:\n",
        "                raise ValueError('Magic number mismatch, expected 2051, got {}'.format(magic))\n",
        "            image_data = array(\"B\", file.read())        \n",
        "        images = []\n",
        "        for i in range(size):\n",
        "            images.append([0] * rows * cols)\n",
        "        for i in range(size):\n",
        "            img = np.array(image_data[i * rows * cols:(i + 1) * rows * cols])\n",
        "            img = img.reshape(28, 28)\n",
        "            images[i][:] = img            \n",
        "        \n",
        "        return images, labels\n",
        "            \n",
        "    def load_data(self):\n",
        "        x_train, y_train = self.read_images_labels(self.training_images_filepath, self.training_labels_filepath)\n",
        "        x_test, y_test = self.read_images_labels(self.test_images_filepath, self.test_labels_filepath)\n",
        "        return (x_train, y_train),(x_test, y_test) "
      ],
      "execution_count": 0,
      "outputs": []
    },
    {
      "cell_type": "code",
      "metadata": {
        "id": "KuKVcQzcEw9m",
        "colab_type": "code",
        "colab": {}
      },
      "source": [
        "import numpy as np\n",
        "import matplotlib.pyplot as plt\n",
        "from tensorflow.keras.layers import Input, Conv2D, Conv3D, Dense, Flatten, Dropout, MaxPooling2D\n",
        "from tensorflow.keras.models import Model,Sequential"
      ],
      "execution_count": 0,
      "outputs": []
    },
    {
      "cell_type": "code",
      "metadata": {
        "id": "1bo8V-UGF0p-",
        "colab_type": "code",
        "colab": {}
      },
      "source": [
        "# reading data\n",
        "training_images_filepath = 'MNIST/train-images-idx3-ubyte'\n",
        "training_labels_filepath = 'MNIST/train-labels-idx1-ubyte'\n",
        "test_images_filepath = 'MNIST/t10k-images-idx3-ubyte'\n",
        "test_labels_filepath = 'MNIST/t10k-labels-idx1-ubyte'\n",
        "mnist_dataloader = MnistDataloader(training_images_filepath, training_labels_filepath, test_images_filepath, test_labels_filepath)\n",
        "(x_train, y_train), (x_test, y_test) =mnist_dataloader.load_data()\n"
      ],
      "execution_count": 0,
      "outputs": []
    },
    {
      "cell_type": "code",
      "metadata": {
        "id": "hxKsR1HmIAKq",
        "colab_type": "code",
        "outputId": "c9834ed1-d903-436e-8a07-f3dba5d2f8f3",
        "colab": {
          "base_uri": "https://localhost:8080/",
          "height": 34
        }
      },
      "source": [
        "#DATA is 2d for CNN to need 3d data, expand 1 dimension at the last col\n",
        "x_train = np.expand_dims(x_train, -1)\n",
        "y_train = np.expand_dims(y_train, -1)\n",
        "print(x_train.shape)"
      ],
      "execution_count": 10,
      "outputs": [
        {
          "output_type": "stream",
          "text": [
            "(60000, 28, 28, 1)\n"
          ],
          "name": "stdout"
        }
      ]
    },
    {
      "cell_type": "code",
      "metadata": {
        "id": "OJvu5-DNMNed",
        "colab_type": "code",
        "outputId": "457f095e-0688-4379-e971-7a21db23d226",
        "colab": {
          "base_uri": "https://localhost:8080/",
          "height": 34
        }
      },
      "source": [
        "# print # of class labels\n",
        "k  = len(set(map(tuple,y_train)))\n",
        "print(k)\n"
      ],
      "execution_count": 11,
      "outputs": [
        {
          "output_type": "stream",
          "text": [
            "10\n"
          ],
          "name": "stdout"
        }
      ]
    },
    {
      "cell_type": "code",
      "metadata": {
        "id": "_eewhASYSVy9",
        "colab_type": "code",
        "outputId": "af9dc471-3935-4188-fadc-1aa789c473fc",
        "colab": {
          "base_uri": "https://localhost:8080/",
          "height": 1000
        }
      },
      "source": [
        "# CNN approach one, designed according to the requirement of hw8\n",
        "model = Sequential()\n",
        "\n",
        "\n",
        "#add conv1\n",
        "model.add(Conv2D(4,(3,3),activation='relu',strides=1,padding=\"VALID\", input_shape=(28,28,1)))\n",
        "#add pool1\n",
        "model.add(MaxPooling2D(pool_size=(2, 2), strides=(2, 2)))\n",
        "#add conv2\n",
        "model.add(Conv2D(2, (3, 3),strides=(3,3),activation='relu',padding=\"VALID\"))\n",
        "#add pool2\n",
        "model.add(MaxPooling2D(pool_size=(4, 4), strides=(4, 4)))\n",
        "model.add(Flatten())\n",
        "model.add(Dense(10, activation='softmax'))\n",
        "model.compile(optimizer='adam',loss='sparse_categorical_crossentropy',metrics=['accuracy'])\n",
        "x_train = np.array(x_train)\n",
        "x_test = np.array(x_test)\n",
        "y_train = np.array(y_train)\n",
        "y_test = np.array(y_test)\n",
        "\n",
        "r = model.fit(x_train,y_train,batch_size=100,epochs=50)"
      ],
      "execution_count": 12,
      "outputs": [
        {
          "output_type": "stream",
          "text": [
            "Epoch 1/50\n",
            "600/600 [==============================] - 1s 2ms/step - loss: 10.9091 - accuracy: 0.0922\n",
            "Epoch 2/50\n",
            "600/600 [==============================] - 1s 2ms/step - loss: 2.3196 - accuracy: 0.1113\n",
            "Epoch 3/50\n",
            "600/600 [==============================] - 1s 2ms/step - loss: 2.3058 - accuracy: 0.1113\n",
            "Epoch 4/50\n",
            "600/600 [==============================] - 1s 2ms/step - loss: 2.3028 - accuracy: 0.1119\n",
            "Epoch 5/50\n",
            "600/600 [==============================] - 1s 2ms/step - loss: 2.3019 - accuracy: 0.1122\n",
            "Epoch 6/50\n",
            "600/600 [==============================] - 1s 2ms/step - loss: 2.3016 - accuracy: 0.1123\n",
            "Epoch 7/50\n",
            "600/600 [==============================] - 1s 2ms/step - loss: 2.3014 - accuracy: 0.1126\n",
            "Epoch 8/50\n",
            "600/600 [==============================] - 1s 2ms/step - loss: 2.3013 - accuracy: 0.1124\n",
            "Epoch 9/50\n",
            "600/600 [==============================] - 1s 2ms/step - loss: 2.3013 - accuracy: 0.1126\n",
            "Epoch 10/50\n",
            "600/600 [==============================] - 1s 2ms/step - loss: 2.3013 - accuracy: 0.1127\n",
            "Epoch 11/50\n",
            "600/600 [==============================] - 1s 2ms/step - loss: 2.3013 - accuracy: 0.1126\n",
            "Epoch 12/50\n",
            "600/600 [==============================] - 1s 2ms/step - loss: 2.3013 - accuracy: 0.1124\n",
            "Epoch 13/50\n",
            "600/600 [==============================] - 1s 2ms/step - loss: 2.3012 - accuracy: 0.1127\n",
            "Epoch 14/50\n",
            "600/600 [==============================] - 1s 2ms/step - loss: 2.3012 - accuracy: 0.1125\n",
            "Epoch 15/50\n",
            "600/600 [==============================] - 1s 2ms/step - loss: 2.3013 - accuracy: 0.1124\n",
            "Epoch 16/50\n",
            "600/600 [==============================] - 1s 2ms/step - loss: 2.3013 - accuracy: 0.1124\n",
            "Epoch 17/50\n",
            "600/600 [==============================] - 1s 2ms/step - loss: 2.3013 - accuracy: 0.1124\n",
            "Epoch 18/50\n",
            "600/600 [==============================] - 1s 2ms/step - loss: 2.3013 - accuracy: 0.1124\n",
            "Epoch 19/50\n",
            "600/600 [==============================] - 1s 2ms/step - loss: 2.3012 - accuracy: 0.1124\n",
            "Epoch 20/50\n",
            "600/600 [==============================] - 1s 2ms/step - loss: 2.3013 - accuracy: 0.1124\n",
            "Epoch 21/50\n",
            "600/600 [==============================] - 1s 2ms/step - loss: 2.3013 - accuracy: 0.1124\n",
            "Epoch 22/50\n",
            "600/600 [==============================] - 1s 2ms/step - loss: 2.3013 - accuracy: 0.1124\n",
            "Epoch 23/50\n",
            "600/600 [==============================] - 1s 2ms/step - loss: 2.3013 - accuracy: 0.1124\n",
            "Epoch 24/50\n",
            "600/600 [==============================] - 1s 2ms/step - loss: 2.3013 - accuracy: 0.1124\n",
            "Epoch 25/50\n",
            "600/600 [==============================] - 1s 2ms/step - loss: 2.3013 - accuracy: 0.1124\n",
            "Epoch 26/50\n",
            "600/600 [==============================] - 1s 2ms/step - loss: 2.3013 - accuracy: 0.1124\n",
            "Epoch 27/50\n",
            "600/600 [==============================] - 1s 2ms/step - loss: 2.3013 - accuracy: 0.1124\n",
            "Epoch 28/50\n",
            "600/600 [==============================] - 1s 2ms/step - loss: 2.3013 - accuracy: 0.1124\n",
            "Epoch 29/50\n",
            "600/600 [==============================] - 1s 2ms/step - loss: 2.3013 - accuracy: 0.1124\n",
            "Epoch 30/50\n",
            "600/600 [==============================] - 1s 2ms/step - loss: 2.3013 - accuracy: 0.1124\n",
            "Epoch 31/50\n",
            "600/600 [==============================] - 1s 2ms/step - loss: 2.3013 - accuracy: 0.1124\n",
            "Epoch 32/50\n",
            "600/600 [==============================] - 1s 2ms/step - loss: 2.3013 - accuracy: 0.1124\n",
            "Epoch 33/50\n",
            "600/600 [==============================] - 1s 2ms/step - loss: 2.3013 - accuracy: 0.1124\n",
            "Epoch 34/50\n",
            "600/600 [==============================] - 1s 2ms/step - loss: 2.3013 - accuracy: 0.1124\n",
            "Epoch 35/50\n",
            "600/600 [==============================] - 1s 2ms/step - loss: 2.3013 - accuracy: 0.1124\n",
            "Epoch 36/50\n",
            "600/600 [==============================] - 1s 2ms/step - loss: 2.3013 - accuracy: 0.1124\n",
            "Epoch 37/50\n",
            "600/600 [==============================] - 1s 2ms/step - loss: 2.3013 - accuracy: 0.1124\n",
            "Epoch 38/50\n",
            "600/600 [==============================] - 1s 2ms/step - loss: 2.3013 - accuracy: 0.1124\n",
            "Epoch 39/50\n",
            "600/600 [==============================] - 1s 2ms/step - loss: 2.3013 - accuracy: 0.1124\n",
            "Epoch 40/50\n",
            "600/600 [==============================] - 1s 2ms/step - loss: 2.3013 - accuracy: 0.1124\n",
            "Epoch 41/50\n",
            "600/600 [==============================] - 1s 2ms/step - loss: 2.3013 - accuracy: 0.1124\n",
            "Epoch 42/50\n",
            "600/600 [==============================] - 1s 2ms/step - loss: 2.3013 - accuracy: 0.1124\n",
            "Epoch 43/50\n",
            "600/600 [==============================] - 1s 2ms/step - loss: 2.3013 - accuracy: 0.1124\n",
            "Epoch 44/50\n",
            "600/600 [==============================] - 1s 2ms/step - loss: 2.3013 - accuracy: 0.1124\n",
            "Epoch 45/50\n",
            "600/600 [==============================] - 1s 2ms/step - loss: 2.3013 - accuracy: 0.1124\n",
            "Epoch 46/50\n",
            "600/600 [==============================] - 1s 2ms/step - loss: 2.3013 - accuracy: 0.1124\n",
            "Epoch 47/50\n",
            "600/600 [==============================] - 1s 2ms/step - loss: 2.3013 - accuracy: 0.1124\n",
            "Epoch 48/50\n",
            "600/600 [==============================] - 1s 2ms/step - loss: 2.3013 - accuracy: 0.1124\n",
            "Epoch 49/50\n",
            "600/600 [==============================] - 1s 2ms/step - loss: 2.3013 - accuracy: 0.1124\n",
            "Epoch 50/50\n",
            "600/600 [==============================] - 1s 2ms/step - loss: 2.3013 - accuracy: 0.1124\n"
          ],
          "name": "stdout"
        }
      ]
    },
    {
      "cell_type": "code",
      "metadata": {
        "id": "3ANw3zDfQ_10",
        "colab_type": "code",
        "outputId": "c55b0555-9aa0-484b-c8eb-e4e692fd5ca2",
        "colab": {
          "base_uri": "https://localhost:8080/",
          "height": 282
        }
      },
      "source": [
        "# plot loss per iteration\n",
        "\n",
        "plt.plot(r.history['loss'],label ='loss')\n",
        "\n",
        "plt.legend()\n",
        "# plot accuracy per iteration\n",
        "plt.plot(r.history['accuracy'],label ='accuracy')\n",
        "\n",
        "plt.legend()"
      ],
      "execution_count": 13,
      "outputs": [
        {
          "output_type": "execute_result",
          "data": {
            "text/plain": [
              "<matplotlib.legend.Legend at 0x7f9ef0062cf8>"
            ]
          },
          "metadata": {
            "tags": []
          },
          "execution_count": 13
        },
        {
          "output_type": "display_data",
          "data": {
            "image/png": "[encoded data removed]",
            "text/plain": [
              "<Figure size 432x288 with 1 Axes>"
            ]
          },
          "metadata": {
            "tags": [],
            "needs_background": "light"
          }
        }
      ]
    },
    {
      "cell_type": "code",
      "metadata": {
        "id": "1-lrtnyS7blI",
        "colab_type": "code",
        "outputId": "e4ca100d-2b8f-419b-d0fa-f3ddd783b298",
        "colab": {
          "base_uri": "https://localhost:8080/",
          "height": 187
        }
      },
      "source": [
        "# CNN approach two, this approach didn't use any pooling just 3 Conv2D \n",
        "#layers using strides achieve high accuracy level with just 1 epoch\n",
        "\n",
        "i = Input(shape = x_train[0].shape)\n",
        "x = Conv2D(32,(3,3),strides=2,activation='relu')(i)\n",
        "x = Conv2D(64,(3,3),strides=2,activation='relu')(x)\n",
        "x = Conv2D(128,(3,3),strides=2,activation='relu')(x)\n",
        "x= Flatten()(x)\n",
        "x = Dense(512,activation='relu')(x)\n",
        "x = Dense(k,activation='softmax')(x)\n",
        "model = Model(i,x)\n",
        "model.compile(optimizer='adam',loss='sparse_categorical_crossentropy',metrics=['accuracy'])\n",
        "x_train = np.array(x_train)\n",
        "x_test = np.array(x_test)\n",
        "y_train = np.array(y_train)\n",
        "y_test = np.array(y_test)\n",
        "\n",
        "r = model.fit(x_train,y_train,batch_size=100,epochs=5)"
      ],
      "execution_count": 180,
      "outputs": [
        {
          "output_type": "stream",
          "text": [
            "Epoch 1/5\n",
            "600/600 [==============================] - 2s 3ms/step - loss: 0.2512 - accuracy: 0.9368\n",
            "Epoch 2/5\n",
            "600/600 [==============================] - 2s 3ms/step - loss: 0.0609 - accuracy: 0.9815\n",
            "Epoch 3/5\n",
            "600/600 [==============================] - 2s 3ms/step - loss: 0.0384 - accuracy: 0.9877\n",
            "Epoch 4/5\n",
            "600/600 [==============================] - 2s 3ms/step - loss: 0.0354 - accuracy: 0.9888\n",
            "Epoch 5/5\n",
            "600/600 [==============================] - 2s 3ms/step - loss: 0.0270 - accuracy: 0.9916\n"
          ],
          "name": "stdout"
        }
      ]
    },
    {
      "cell_type": "code",
      "metadata": {
        "id": "LfFAVgOCmIQH",
        "colab_type": "code",
        "outputId": "ec26429f-1f5f-4b29-f404-83e4a360f085",
        "colab": {
          "base_uri": "https://localhost:8080/",
          "height": 282
        }
      },
      "source": [
        "# plot loss per iteration\n",
        "\n",
        "plt.plot(r.history['loss'],label ='loss')\n",
        "\n",
        "plt.legend()\n",
        "# plot accuracy per iteration\n",
        "plt.plot(r.history['accuracy'],label ='accuracy')\n",
        "\n",
        "plt.legend()"
      ],
      "execution_count": 0,
      "outputs": [
        {
          "output_type": "execute_result",
          "data": {
            "text/plain": [
              "<matplotlib.legend.Legend at 0x7f6934ac3470>"
            ]
          },
          "metadata": {
            "tags": []
          },
          "execution_count": 140
        },
        {
          "output_type": "display_data",
          "data": {
            "image/png": "[encoded data removed]",
            "text/plain": [
              "<Figure size 432x288 with 1 Axes>"
            ]
          },
          "metadata": {
            "tags": [],
            "needs_background": "light"
          }
        }
      ]
    }
  ]
}